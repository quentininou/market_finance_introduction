{
 "cells": [
  {
   "cell_type": "code",
   "execution_count": 1,
   "metadata": {},
   "outputs": [
    {
     "name": "stderr",
     "output_type": "stream",
     "text": [
      "/home/lois/delivery/TECK-4/market_finance_introduction/venv/lib/python3.7/site-packages/pandas/compat/__init__.py:120: UserWarning: Could not import the lzma module. Your installed Python is incomplete. Attempting to use lzma compression will result in a RuntimeError.\n",
      "  warnings.warn(msg)\n"
     ]
    }
   ],
   "source": [
    "import fxcmpy\n",
    "import datetime\n",
    "import numpy as np\n",
    "import pandas as pd\n",
    "import matplotlib.pyplot as plt\n",
    "from pyti.exponential_moving_average import exponential_moving_average as ema\n",
    "%matplotlib inline\n",
    "%load_ext autoreload\n",
    "%autoreload 2\n",
    "pd.options.display.max_rows = 4000\n",
    "from trading import tradeFXCM\n",
    "from algorithm import *\n",
    "import Backtesting \n",
    "from importlib import reload"
   ]
  },
  {
   "cell_type": "code",
   "execution_count": 2,
   "metadata": {},
   "outputs": [],
   "source": [
    "con = fxcmpy.fxcmpy(config_file='fxcm.cfg')"
   ]
  },
  {
   "cell_type": "code",
   "execution_count": 3,
   "metadata": {},
   "outputs": [
    {
     "name": "stdout",
     "output_type": "stream",
     "text": [
      "2020-10-27 14:44:06.052168\n"
     ]
    }
   ],
   "source": [
    "all_market = []\n",
    "all_market.append(tradeFXCM('AUD/USD', 'm15', con, 'EMAv'))\n",
    "all_market.append(tradeFXCM('EUR/USD', 'm5', con, 'EMAv'))\n",
    "all_market.append(tradeFXCM('GBP/USD', 'm1', con, 'EMAv'))\n",
    "all_market.append(tradeFXCM('NZD/USD', 'm1', con, 'EMAv'))\n",
    "all_market.append(tradeFXCM('USD/CAD', 'H1', con, 'EMAv'))\n",
    "all_market.append(tradeFXCM('USD/CHF', 'H2', con, 'EMAv'))\n",
    "all_market.append(tradeFXCM('USD/JPY', 'H1', con, 'EMAv'))"
   ]
  },
  {
   "cell_type": "code",
   "execution_count": 4,
   "metadata": {},
   "outputs": [
    {
     "ename": "KeyboardInterrupt",
     "evalue": "",
     "output_type": "error",
     "traceback": [
      "\u001b[0;31m---------------------------------------------------------------------------\u001b[0m",
      "\u001b[0;31mKeyboardInterrupt\u001b[0m                         Traceback (most recent call last)",
      "\u001b[0;32m<ipython-input-4-6395595e3e89>\u001b[0m in \u001b[0;36m<module>\u001b[0;34m\u001b[0m\n\u001b[1;32m      5\u001b[0m         \u001b[0mhours\u001b[0m \u001b[0;34m=\u001b[0m \u001b[0mdivmod\u001b[0m\u001b[0;34m(\u001b[0m\u001b[0mduration_in_s\u001b[0m\u001b[0;34m,\u001b[0m \u001b[0;36m3600\u001b[0m\u001b[0;34m)\u001b[0m\u001b[0;34m[\u001b[0m\u001b[0;36m0\u001b[0m\u001b[0;34m]\u001b[0m\u001b[0;34m\u001b[0m\u001b[0;34m\u001b[0m\u001b[0m\n\u001b[1;32m      6\u001b[0m         \u001b[0;31m#check one minute\u001b[0m\u001b[0;34m\u001b[0m\u001b[0;34m\u001b[0m\u001b[0;34m\u001b[0m\u001b[0m\n\u001b[0;32m----> 7\u001b[0;31m         \u001b[0;32mif\u001b[0m \u001b[0mmarket\u001b[0m\u001b[0;34m.\u001b[0m\u001b[0mtime_update\u001b[0m \u001b[0;34m==\u001b[0m \u001b[0;34m'H1'\u001b[0m\u001b[0;34m:\u001b[0m\u001b[0;34m\u001b[0m\u001b[0;34m\u001b[0m\u001b[0m\n\u001b[0m\u001b[1;32m      8\u001b[0m             \u001b[0;32mif\u001b[0m \u001b[0mhours\u001b[0m \u001b[0;34m==\u001b[0m \u001b[0;36m1\u001b[0m\u001b[0;34m:\u001b[0m\u001b[0;34m\u001b[0m\u001b[0;34m\u001b[0m\u001b[0m\n\u001b[1;32m      9\u001b[0m                 \u001b[0mmarket\u001b[0m\u001b[0;34m.\u001b[0m\u001b[0mupdate\u001b[0m\u001b[0;34m(\u001b[0m\u001b[0;34m)\u001b[0m\u001b[0;34m\u001b[0m\u001b[0;34m\u001b[0m\u001b[0m\n",
      "\u001b[0;31mKeyboardInterrupt\u001b[0m: "
     ]
    }
   ],
   "source": [
    "while 1:\n",
    "    for market in all_market:\n",
    "        duration = datetime.datetime.now() - market.time_update\n",
    "        duration_in_s = duration.total_seconds()\n",
    "        #check one minute\n",
    "        if market.frequency == 'H1':\n",
    "            if divmod(duration_in_s, 3600)[0] == 1:\n",
    "                market.update()\n",
    "                #decisionEMAv(self.data, self.EMAv)\n",
    "        if market.frequency == 'H2':\n",
    "            if divmod(duration_in_s, 3600)[0] == 2:\n",
    "                market.update()\n",
    "        if market.frequency == 'm15':\n",
    "            if divmod(duration_in_s, 60)[0] == 15:\n",
    "                market.update()\n",
    "        if market.frequency == 'm5':\n",
    "            if divmod(duration_in_s, 60)[0] == 5:\n",
    "                market.update()\n",
    "        if market.frequency == 'm1':\n",
    "            if divmod(duration_in_s, 60)[0] == 1:\n",
    "                market.update()\n"
   ]
  },
  {
   "cell_type": "code",
   "execution_count": 5,
   "metadata": {},
   "outputs": [],
   "source": [
    "con.close()"
   ]
  },
  {
   "cell_type": "code",
   "execution_count": null,
   "metadata": {},
   "outputs": [],
   "source": []
  }
 ],
 "metadata": {
  "kernelspec": {
   "display_name": "Python 3",
   "language": "python",
   "name": "python3"
  },
  "language_info": {
   "codemirror_mode": {
    "name": "ipython",
    "version": 3
   },
   "file_extension": ".py",
   "mimetype": "text/x-python",
   "name": "python",
   "nbconvert_exporter": "python",
   "pygments_lexer": "ipython3",
   "version": "3.7.4"
  }
 },
 "nbformat": 4,
 "nbformat_minor": 4
}
